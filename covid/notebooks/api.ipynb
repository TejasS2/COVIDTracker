{
 "cells": [
  {
   "cell_type": "code",
   "execution_count": 5,
   "metadata": {},
   "outputs": [],
   "source": [
    "import os\n",
    "os.chdir(\"..\")"
   ]
  },
  {
   "cell_type": "code",
   "execution_count": 6,
   "metadata": {},
   "outputs": [],
   "source": [
    "import django\n",
    "# In case that we need it later\n",
    "# from django.conf import settings\n",
    "os.environ.setdefault('DJANGO_SETTINGS_MODULE', 'covid.settings')\n",
    "# This is for async, in case we will see it later (maybe) \n",
    "# os.environ[\"DJANGO_ALLOW_ASYNC_UNSAFE\"] = \"true\"\n",
    "django.setup()"
   ]
  },
  {
   "cell_type": "code",
   "execution_count": 7,
   "metadata": {},
   "outputs": [],
   "source": [
    "import json\n",
    "import http.client\n",
    "from datetime import datetime, timedelta\n",
    "from countries.models import Country, Data\n",
    "\n",
    "def daterange(start_date, end_date):\n",
    "    for n in range(int((end_date - start_date).days)):\n",
    "        yield start_date + timedelta(n)"
   ]
  },
  {
   "cell_type": "code",
   "execution_count": 9,
   "metadata": {},
   "outputs": [],
   "source": [
    "conn = http.client.HTTPSConnection(\"covid-193.p.rapidapi.com\")\n",
    "\n",
    "headers = {\n",
    "    'X-RapidAPI-Key': \"\",\n",
    "    'X-RapidAPI-Host': \"covid-193.p.rapidapi.com\"\n",
    "}\n",
    "\n",
    "conn.request(\"GET\", \"/countries\", headers=headers)\n",
    "\n",
    "res = conn.getresponse()\n",
    "data = res.read()\n",
    "\n",
    "countries = (data.decode(\"utf-8\"))\n",
    "countries_data = json.loads(countries)\n",
    "country_list = countries_data.get('response', [])"
   ]
  },
  {
   "cell_type": "code",
   "execution_count": 10,
   "metadata": {},
   "outputs": [],
   "source": [
    "from asgiref.sync import sync_to_async\n",
    "\n",
    "# start_date = datetime.strptime('2024-01-10', '%Y-%m-%d').date()\n",
    "# end_date = datetime.today().date()\n",
    "\n",
    "# for single_date in daterange(start_date, end_date):\n",
    "#     for country in country_list:\n",
    "#         formatted_date = single_date.strftime('%Y-%m-%d')\n",
    "        \n",
    "#         conn.request(\"GET\", f\"/history?country=mexico&day={formatted_date}\", headers=headers)\n",
    "#         res = conn.getresponse()\n",
    "#         data = res.read()\n",
    "#         dico_data = json.loads(data.decode('utf-8'))\n",
    "    \n",
    "#         # Parse the API response and save data to the database\n",
    "#         if 'response' in dico_data:\n",
    "#             for record in dico_data['response']:\n",
    "#                 # Extract data from the record\n",
    "#                 country_name = record['country']\n",
    "#                 population = record['population']\n",
    "#                 date = record['day']\n",
    "#                 new_cases = int(record['cases']['new'].replace('+', '')) if record['cases']['new'] else 0\n",
    "#                 total_cases = record['cases']['total'] if record['cases']['total'] else 0\n",
    "#                 new_deaths = int(record['deaths']['new'].replace('+', '')) if record['deaths']['new'] else 0\n",
    "#                 total_deaths = record['deaths']['total'] if record['deaths']['total'] else 0\n",
    "#                 critical_cases = record['cases']['critical'] if record['cases']['critical'] else 0\n",
    "#                 recovered_cases = record['cases']['recovered'] if record['cases']['recovered'] else 0\n",
    "#                 cases_per_1M = int(record['cases']['1M_pop']) if record['cases']['1M_pop'] else 0\n",
    "#                 total_tests = record['tests']['total'] if record['tests']['total'] else 0\n",
    "#                 tests_per_1M = int(record['tests']['1M_pop']) if record['tests']['1M_pop'] else 0\n",
    "            \n",
    "#                 # Get or create the country object\n",
    "#                 country_obj, created = await sync_to_async(Country.objects.get_or_create)(name=country_name, defaults={'population': population})\n",
    "#                 # Create or update the data object\n",
    "#                 data_obj, created = await sync_to_async(Data.objects.update_or_create)(\n",
    "#                     country=country_obj,\n",
    "#                     date=datetime.strptime(date, '%Y-%m-%d').date(),\n",
    "#                     defaults={\n",
    "#                         'new_infected': new_cases,\n",
    "#                         'total_infected': total_cases,\n",
    "#                         'new_deaths': new_deaths,\n",
    "#                         'total_deaths': total_deaths,\n",
    "#                         'critical': critical_cases,\n",
    "#                         'recovered': recovered_cases,\n",
    "#                         'cases_per_1M': cases_per_1M,\n",
    "#                         'total_tests': total_tests,\n",
    "#                         'test_per_1M': tests_per_1M,\n",
    "#                     }\n",
    "#                 )\n",
    "#                 pass\n",
    "#         else:\n",
    "#             print(f\"No data for {country} on {formatted_date}\")\n",
    "\n",
    "import ipywidgets as widgets\n",
    "from IPython.display import display, clear_output\n",
    "\n",
    "async def fetch_countries():\n",
    "    for country in country_list:\n",
    "        country_obj, created = await sync_to_async(Country.objects.get_or_create)(name=country)\n",
    "\n",
    "await fetch_countries()\n",
    "\n",
    "async def fetch_data(country, date):\n",
    "    start_date = datetime.strptime(date, '%Y-%m-%d').date()\n",
    "    formatted_date = start_date.strftime('%Y-%m-%d')\n",
    "        \n",
    "    conn.request(\"GET\", f\"/history?country={country}&day={formatted_date}\", headers=headers)\n",
    "    res = conn.getresponse()\n",
    "    data = res.read()\n",
    "    dico_data = json.loads(data.decode('utf-8'))\n",
    "\n",
    "    # Parse the API response and save data to the database\n",
    "    if 'response' in dico_data:\n",
    "        for record in dico_data['response']:\n",
    "            # Extract data from the record\n",
    "            country_name = record['country']\n",
    "            population = record['population']\n",
    "            date = record['day']\n",
    "            new_cases = int(record['cases']['new'].replace('+', '')) if record['cases']['new'] else 0\n",
    "            total_cases = record['cases']['total'] if record['cases']['total'] else 0\n",
    "            new_deaths = int(record['deaths']['new'].replace('+', '')) if record['deaths']['new'] else 0\n",
    "            total_deaths = record['deaths']['total'] if record['deaths']['total'] else 0\n",
    "            critical_cases = record['cases']['critical'] if record['cases']['critical'] else 0\n",
    "            recovered_cases = record['cases']['recovered'] if record['cases']['recovered'] else 0\n",
    "            cases_per_1M = int(record['cases']['1M_pop']) if record['cases']['1M_pop'] else 0\n",
    "            total_tests = record['tests']['total'] if record['tests']['total'] else 0\n",
    "            tests_per_1M = int(record['tests']['1M_pop']) if record['tests']['1M_pop'] else 0\n",
    "            \n",
    "            country_obj, created = await sync_to_async(Country.objects.get_or_create)(name=country_name)\n",
    "            # Create or update the data object\n",
    "            data_obj, created = await sync_to_async(Data.objects.update_or_create)(\n",
    "                country=country_obj,\n",
    "                date=datetime.strptime(date, '%Y-%m-%d').date(),\n",
    "                defaults={\n",
    "                    'new_infected': new_cases,\n",
    "                    'total_infected': total_cases,\n",
    "                    'new_deaths': new_deaths,\n",
    "                    'total_deaths': total_deaths,\n",
    "                    'critical': critical_cases,\n",
    "                    'recovered': recovered_cases,\n",
    "                    'cases_per_1M': cases_per_1M,\n",
    "                    'total_tests': total_tests,\n",
    "                    'test_per_1M': tests_per_1M,\n",
    "                    'population': population,\n",
    "                }\n",
    "            )\n",
    "            pass\n",
    "    else:\n",
    "        print(f\"No data for {country} on {formatted_date}\")\n",
    "\n",
    "await fetch_data(\"USA\", \"2023-07-07\")\n"
   ]
  },
  {
   "cell_type": "code",
   "execution_count": 11,
   "metadata": {},
   "outputs": [],
   "source": [
    "await fetch_countries()"
   ]
  },
  {
   "cell_type": "code",
   "execution_count": 12,
   "metadata": {},
   "outputs": [],
   "source": [
    "await fetch_data(\"USA\", \"2024-01-17\")"
   ]
  },
  {
   "cell_type": "code",
   "execution_count": null,
   "metadata": {},
   "outputs": [],
   "source": []
  },
  {
   "cell_type": "code",
   "execution_count": null,
   "metadata": {},
   "outputs": [],
   "source": []
  }
 ],
 "metadata": {
  "kernelspec": {
   "display_name": "Python 3.12.1 ('env_3.11.5': venv)",
   "language": "python",
   "name": "python3"
  },
  "language_info": {
   "codemirror_mode": {
    "name": "ipython",
    "version": 3
   },
   "file_extension": ".py",
   "mimetype": "text/x-python",
   "name": "python",
   "nbconvert_exporter": "python",
   "pygments_lexer": "ipython3",
   "version": "3.11.5"
  },
  "vscode": {
   "interpreter": {
    "hash": "7a6d74bb6ceb2fda6c16895a710226e4482f6d1241d8497b9df94b9db867d974"
   }
  }
 },
 "nbformat": 4,
 "nbformat_minor": 4
}
